{
 "cells": [
  {
   "metadata": {},
   "cell_type": "markdown",
   "source": [
    "# My Tutorial\n",
    " \n",
    "This is a tutorial for the 'TRENDplotter' library.\n",
    "\n",
    "First, import the library:"
   ],
   "id": "9cf59b6f99353b36"
  }
 ],
 "metadata": {
  "kernelspec": {
   "display_name": "Python 3",
   "language": "python",
   "name": "python3"
  },
  "language_info": {
   "codemirror_mode": {
    "name": "ipython",
    "version": 2
   },
   "file_extension": ".py",
   "mimetype": "text/x-python",
   "name": "python",
   "nbconvert_exporter": "python",
   "pygments_lexer": "ipython2",
   "version": "2.7.6"
  }
 },
 "nbformat": 4,
 "nbformat_minor": 5
}
